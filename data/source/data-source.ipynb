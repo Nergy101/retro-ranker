{
 "cells": [
  {
   "cell_type": "markdown",
   "metadata": {},
   "source": [
    "# Data Source\n",
    "https://docs.google.com/spreadsheets/d/1irg60f9qsZOkhp0cwOU7Cy4rJQeyusEUzTNQzhoTYTU/edit?gid=0#gid=0\n",
    "\n",
    "Let's sanitize this into a nice JSON file to use as a data source for the website.\n"
   ]
  },
  {
   "cell_type": "code",
   "execution_count": 1,
   "metadata": {},
   "outputs": [
    {
     "name": "stdout",
     "output_type": "stream",
     "text": [
      "parsedDevicesHandhelds:  439\n",
      "parsedDevicesOEMs:  24\n",
      "all parsed devices:  463\n",
      "New device added: K56\n",
      "New device added: K560\n"
     ]
    }
   ],
   "source": [
    "import { DeviceParser } from \"./device-parser/device.parser.ts\";\n",
    "import { EmulationSystemOrder } from \"../enums/EmulationSystem.ts\";\n",
    "import { slugify } from \"https://deno.land/x/slugify@0.3.0/mod.ts\";\n",
    "\n",
    "slugify.extend({\n",
    "  '?': 'question-mark'\n",
    "})\n",
    "\n",
    "// living data path\n",
    "const filePath = `results/handhelds.json`;\n",
    "\n",
    "// parse handhelds html \n",
    "const parsedDevicesHandhelds = DeviceParser.parseHandheldsHtml(\"./files/Handhelds.html\");\n",
    "console.info(\"parsedDevicesHandhelds: \", parsedDevicesHandhelds.length);\n",
    "\n",
    "const parsedDevicesOEMs= DeviceParser.parseOEMsHtml(\"./files/OEM.html\");\n",
    "console.info(\"parsedDevicesOEMs: \", parsedDevicesOEMs.length);\n",
    "\n",
    "const allDevices = [...parsedDevicesHandhelds, ...parsedDevicesOEMs];\n",
    "\n",
    "console.info(\"all parsed devices: \", allDevices.length);\n",
    "\n",
    "const devices = allDevices\n",
    ".filter((device) => device.name.sanitized !== \"\")\n",
    ".filter((device) => device.image.originalUrl !== \"\");\n",
    "\n",
    "const currentDevices = JSON.parse(new TextDecoder().decode(await Deno.readFile(filePath))) as Device[];\n",
    "\n",
    "const currentDevicesMap = new Map(currentDevices.map(device => [device.name.raw, device]));\n",
    "\n",
    "devices.forEach(newDevice => {\n",
    "  const currentDevice = currentDevicesMap.get(newDevice.name.raw);\n",
    "\n",
    "  if (!currentDevice) {\n",
    "    console.info(`New device added: ${newDevice.name.raw}`);\n",
    "  }\n",
    "});"
   ]
  },
  {
   "cell_type": "code",
   "execution_count": 2,
   "metadata": {},
   "outputs": [],
   "source": [
    "\n",
    "// marshall into JSON and into bytes\n",
    "const devicesJson = JSON.stringify(devices, null, 2);\n",
    "const devicesJsonBytes = new TextEncoder().encode(devicesJson);"
   ]
  },
  {
   "cell_type": "code",
   "execution_count": 3,
   "metadata": {},
   "outputs": [],
   "source": [
    "// place source/handhelds.json\n",
    "\n",
    "await Deno.mkdir('results', { recursive: true });\n",
    "await Deno.writeFile(filePath, devicesJsonBytes);\n"
   ]
  }
 ],
 "metadata": {
  "kernelspec": {
   "display_name": "Deno",
   "language": "typescript",
   "name": "deno"
  },
  "language_info": {
   "codemirror_mode": "typescript",
   "file_extension": ".ts",
   "mimetype": "text/x.typescript",
   "name": "typescript",
   "nbconvert_exporter": "script",
   "pygments_lexer": "typescript",
   "version": "5.6.2"
  }
 },
 "nbformat": 4,
 "nbformat_minor": 2
}
